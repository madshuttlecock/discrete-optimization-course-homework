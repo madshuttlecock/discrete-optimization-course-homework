{
 "cells": [
  {
   "cell_type": "markdown",
   "metadata": {
    "deletable": true,
    "editable": true
   },
   "source": [
    "# Задание по курсу «Дискретная оптимизация», МФТИ, весна 2017"
   ]
  },
  {
   "cell_type": "markdown",
   "metadata": {
    "deletable": true,
    "editable": true
   },
   "source": [
    "## Задача 2-1. Применяем простейший локальный поиск.\n",
    "\n",
    "В этой задаче Вам предлагается попробовать стандартную технику локального поиска (local search) в применении к задаче о сбалансированном разбиении графа. Мы будем рассматривать безвесовый вариант задачи с параметром балансировки $\\alpha=\\frac{1}{2}$:\n",
    "\n",
    "**Даны:**\n",
    "* $G=(V,E)$ — граф без весов на рёбрах\n",
    "\n",
    "**Найти:**\n",
    "* Разбиение $V=V'\\sqcup V''$, такое, что $V'=\\lfloor |V|/2 \\rfloor$ и число рёбер между $V'$ и $V''$ минимально возможное.\n",
    "\n",
    "Сделайте следующее:\n",
    "* [Скачайте](http://mat.gsia.cmu.edu/COLOR/instances.html#XXMYC) файлы mycielX.col  (`for X in range(1,8)`).  (Если интересно, откуда такие графы берутся и чем интересны, см. конструкцию Зыкова—Мыцельского [здесь](https://docs.com/dainiak/3327).)\n",
    "* Для каждого из графов найдите локальным поиском локально минимальное (по количеству рёбер между частями) разбиение вершин графа на две части, мощности которых отличаются не более чем на единицу. \n",
    "* Ваша функция `basic_local_search` должна принимать на вход граф в формате, предоставляемом функцией `read_col_file`, и возвращать найденное локально минимальное разбиение просто как множество либо список вершин, лежащих в одной любой из двух компонент разбиения."
   ]
  },
  {
   "cell_type": "code",
   "execution_count": 2,
   "metadata": {
    "collapsed": true,
    "deletable": true,
    "editable": true
   },
   "outputs": [],
   "source": [
    "def read_col_file(filename):\n",
    "    with open(filename, 'r') as file:\n",
    "        vertices, edges = set(), set()\n",
    "        for line in file:\n",
    "            line = line.strip()\n",
    "            if line.startswith('p'):\n",
    "                vertices = set(range(1, int(line.split()[-2]) + 1))\n",
    "            elif line.startswith('e'):\n",
    "                edges.add(tuple(map(int, line.split()[-2:])))\n",
    "        return (vertices, edges)"
   ]
  },
  {
   "cell_type": "code",
   "execution_count": 138,
   "metadata": {
    "collapsed": false,
    "deletable": true,
    "editable": true
   },
   "outputs": [],
   "source": [
    "from itertools import *\n",
    "\n",
    "def basic_local_search(graph):\n",
    "    def getcost(cur): #подсчет стоимости разбиения\n",
    "        ans = 0\n",
    "        for edge in edges:\n",
    "            a, b = edge\n",
    "            if a in cur and not b in cur:\n",
    "                ans += 1\n",
    "            elif b in cur and not a in cur:\n",
    "                ans += 1\n",
    "        return ans\n",
    "    \n",
    "    vertices, edges = graph\n",
    "    n = len(vertices)\n",
    "    k = min(1, n) #метод k-окрестностей. Будем использовать 1-окрестность. \n",
    "    #Можно поменять константу.\n",
    "    curleft = set()\n",
    "    curright = set()\n",
    "    #начальная инициализация\n",
    "    for (i, el) in enumerate(vertices):\n",
    "        if i % 2:\n",
    "            curleft.add(el)\n",
    "        else:\n",
    "            curright.add(el)\n",
    "    cost = getcost(curleft)\n",
    "    while True:\n",
    "        best = None\n",
    "        for choose in range(1, k+1):\n",
    "            #перебор изменений\n",
    "            for l_ch in combinations(curleft, choose):\n",
    "                for r_ch in combinations(curright, choose):\n",
    "                    r_ch = set(r_ch)\n",
    "                    l_ch = set(l_ch)\n",
    "                    curleft |= r_ch\n",
    "                    curleft -= l_ch\n",
    "                    tmpcost = getcost(curleft)\n",
    "                    curleft -= r_ch\n",
    "                    curleft |= l_ch\n",
    "                    if tmpcost < cost:\n",
    "                        cost = tmpcost\n",
    "                        best = (l_ch, r_ch)\n",
    "        if best is None:\n",
    "            break\n",
    "        l_ch, r_ch = best\n",
    "        #обновление текущего разбиения\n",
    "        curleft |= r_ch\n",
    "        curleft -= l_ch\n",
    "        curright |= l_ch\n",
    "        curright -= r_ch\n",
    "    return curleft"
   ]
  },
  {
   "cell_type": "code",
   "execution_count": 139,
   "metadata": {
    "collapsed": false
   },
   "outputs": [
    {
     "name": "stdout",
     "output_type": "stream",
     "text": [
      "{1, 2, 4, 6, 10}\n"
     ]
    }
   ],
   "source": [
    "print(basic_local_search(read_col_file('myciel3.col')))"
   ]
  },
  {
   "cell_type": "code",
   "execution_count": 140,
   "metadata": {
    "collapsed": false
   },
   "outputs": [
    {
     "name": "stdout",
     "output_type": "stream",
     "text": [
      "{4, 5, 6, 8, 9, 10, 12, 14, 15, 16, 22}\n"
     ]
    }
   ],
   "source": [
    "print(basic_local_search(read_col_file('myciel4.col')))"
   ]
  },
  {
   "cell_type": "code",
   "execution_count": 141,
   "metadata": {
    "collapsed": false
   },
   "outputs": [
    {
     "name": "stdout",
     "output_type": "stream",
     "text": [
      "{1, 3, 6, 7, 8, 10, 12, 13, 14, 16, 18, 21, 22, 25, 26, 27, 30, 32, 34, 36, 38, 45, 46}\n"
     ]
    }
   ],
   "source": [
    "print(basic_local_search(read_col_file('myciel5.col')))"
   ]
  },
  {
   "cell_type": "code",
   "execution_count": 142,
   "metadata": {
    "collapsed": false
   },
   "outputs": [
    {
     "name": "stdout",
     "output_type": "stream",
     "text": [
      "{4, 6, 7, 8, 9, 10, 13, 15, 16, 18, 20, 21, 22, 24, 26, 27, 28, 29, 31, 32, 33, 34, 36, 38, 39, 45, 46, 48, 50, 51, 52, 53, 55, 56, 57, 58, 59, 60, 62, 63, 68, 69, 71, 73, 81, 92, 94}\n"
     ]
    }
   ],
   "source": [
    "print(basic_local_search(read_col_file('myciel6.col')))"
   ]
  },
  {
   "cell_type": "code",
   "execution_count": 130,
   "metadata": {
    "collapsed": false
   },
   "outputs": [
    {
     "name": "stdout",
     "output_type": "stream",
     "text": [
      "{1, 2, 5, 6, 7, 8, 9, 10, 12, 13, 16, 17, 18, 19, 20, 21, 24, 25, 26, 27, 28, 34, 35, 36, 39, 45, 48, 50, 51, 53, 54, 55, 56, 59, 60, 61, 62, 63, 64, 65, 66, 67, 68, 71, 72, 73, 74, 78, 79, 81, 82, 83, 84, 85, 86, 87, 88, 89, 90, 92, 96, 97, 98, 99, 100, 101, 102, 103, 104, 105, 106, 108, 111, 113, 118, 119, 120, 121, 122, 123, 129, 131, 140, 141, 142, 145, 146, 150, 151, 166, 168, 169, 176, 188, 190}\n"
     ]
    }
   ],
   "source": [
    "print(basic_local_search(read_col_file('myciel7.col')))"
   ]
  },
  {
   "cell_type": "code",
   "execution_count": null,
   "metadata": {
    "collapsed": true
   },
   "outputs": [],
   "source": []
  }
 ],
 "metadata": {
  "kernelspec": {
   "display_name": "Python 3",
   "language": "python",
   "name": "python3"
  },
  "language_info": {
   "codemirror_mode": {
    "name": "ipython",
    "version": 3
   },
   "file_extension": ".py",
   "mimetype": "text/x-python",
   "name": "python",
   "nbconvert_exporter": "python",
   "pygments_lexer": "ipython3",
   "version": "3.5.2"
  }
 },
 "nbformat": 4,
 "nbformat_minor": 2
}
