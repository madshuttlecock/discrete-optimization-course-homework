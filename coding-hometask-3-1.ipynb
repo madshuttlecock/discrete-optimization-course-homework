{
 "cells": [
  {
   "cell_type": "markdown",
   "metadata": {
    "deletable": true,
    "editable": true
   },
   "source": [
    "# Задание по курсу «Дискретная оптимизация», МФТИ, весна 2017"
   ]
  },
  {
   "cell_type": "markdown",
   "metadata": {
    "collapsed": true,
    "deletable": true,
    "editable": true
   },
   "source": [
    "## Задача 3-1. Задача TSP: инкрементальные алгоритмы.\n",
    "\n",
    "В этой задаче Вам предлагается сравнить алгоритмы Nearest Neighbour и Nearest Insertion в задаче Euclidean TSP.\n",
    "\n",
    "**Даны:**\n",
    "* Координаты точек плоскости, являющихся вершинами графа.\n",
    "\n",
    "**Найти:**\n",
    "* Перестановку вершин, задающих минимальный по длине гамильтонов цикл в графе.\n",
    "\n",
    "Сделайте следующее:\n",
    "* Скачайте файл [`tsp-instances.zip`](https://github.com/dainiak/discrete-optimization-course/raw/master/tsp-instances.zip) и разархивируйте из него файлы со входами задачи TSP.\n",
    "* Реализуйте функции `solve_tsp_nearest_neighbour` и `solve_tsp_nearest_insertion`.\n",
    "* Запустите функцию `run_all()`, чтобы протестировать свой код и сравнить качество решений, получаемых Nearest Neighbour и Nearest Insertion. Сильно ли они отличаются? Запишите свои качественные выводы в 1-2 предложениях в последней ячейке ipynb-файла."
   ]
  },
  {
   "cell_type": "code",
   "execution_count": 111,
   "metadata": {
    "collapsed": true,
    "deletable": true,
    "editable": true
   },
   "outputs": [],
   "source": [
    "def read_tsp_instance(filename):\n",
    "    with open(filename, 'r') as file:\n",
    "        coordinates = []\n",
    "        for line in file:\n",
    "            line = line.strip().lower()\n",
    "            if line.startswith('dimension'):\n",
    "                coordinates = [(0,0)] * int(line.split()[-1])\n",
    "            tokens = line.split()\n",
    "            if len(tokens) == 3 and tokens[0].isdecimal():\n",
    "                tokens = line.split()\n",
    "                coordinates[int(tokens[0])-1] = tuple(map(float, tokens[1:]))\n",
    "        return coordinates\n",
    "\n",
    "from math import sqrt\n",
    "\n",
    "def euclidean_distance(point1, point2):\n",
    "    return sqrt((point1[0]-point2[0]) ** 2 + (point1[1]-point2[1]) ** 2)\n",
    "    \n",
    "def calculate_tour_length(instance, permutation):\n",
    "    n = len(permutation)\n",
    "    return sum(euclidean_distance(instance[permutation[i]], instance[permutation[(i+1) % n]]) for i in range(len(permutation)))"
   ]
  },
  {
   "cell_type": "code",
   "execution_count": 112,
   "metadata": {
    "collapsed": true,
    "deletable": true,
    "editable": true
   },
   "outputs": [],
   "source": [
    "def solve_tsp_nearest_neighbour(instance):\n",
    "    n = len(instance)\n",
    "    ans = [0 for i in range(n)]\n",
    "    cur = 0\n",
    "    ans[0] = cur\n",
    "    used = [False for i in range(n)]\n",
    "    for step in range(n - 1):\n",
    "        best = -1\n",
    "        bestdist = 0\n",
    "        for vertex in range(n):\n",
    "            if not used[vertex]:\n",
    "                dist = euclidean_distance(instance[cur], instance[vertex])\n",
    "                if best == -1 or bestdist > dist:\n",
    "                    best = vertex\n",
    "                    bestdist = dist\n",
    "        ans[step] = best\n",
    "        used[best] = True\n",
    "        cur = best\n",
    "    return ans"
   ]
  },
  {
   "cell_type": "code",
   "execution_count": 113,
   "metadata": {
    "collapsed": false,
    "deletable": true,
    "editable": true
   },
   "outputs": [],
   "source": [
    "def solve_tsp_nearest_insertion(instance):\n",
    "    n = len(instance)\n",
    "    ans = [0]\n",
    "    used = [False for i in range(n)]\n",
    "    used[0] = True\n",
    "    bestcurs = [euclidean_distance(instance[0], instance[i]) for i in range(n)]\n",
    "    for step in range(n-1):\n",
    "        best = -1\n",
    "        bestdist = 0\n",
    "        for vertex in range(n):\n",
    "            if not used[vertex]:\n",
    "                if best == -1 or bestcurs[vertex] < bestdist:\n",
    "                    best = vertex\n",
    "                    bestdist = bestcurs[vertex]\n",
    "        bestarch = 0\n",
    "        bestplace = -1\n",
    "        for (index, beg) in enumerate(ans):\n",
    "            end = ans[(index + 1) % len(ans)]\n",
    "            d = euclidean_distance(instance[best], instance[beg]) + euclidean_distance(instance[best], instance[end]) - euclidean_distance(instance[beg], instance[end])\n",
    "            if bestplace == -1 or bestarch > d:\n",
    "                bestarch = d\n",
    "                bestplace = index + 1\n",
    "        ans.insert(bestplace, best)\n",
    "        used[best] = True\n",
    "        for vert in range(n):\n",
    "            if not used[vert]:\n",
    "                bestcurs[vert] = min(bestcurs[vert], euclidean_distance(instance[best], instance[vert]))\n",
    "    return ans"
   ]
  },
  {
   "cell_type": "code",
   "execution_count": 114,
   "metadata": {
    "collapsed": false,
    "deletable": true,
    "editable": true
   },
   "outputs": [],
   "source": [
    "import time\n",
    "from os.path import exists\n",
    "\n",
    "def run_all():\n",
    "    instance_filenames = ['d198.tsp', 'd493.tsp', 'd657.tsp', 'd2103.tsp', 'pr107.tsp', 'pr152.tsp', 'pr439.tsp']\n",
    "    for filename in instance_filenames:\n",
    "        if not exists(filename):\n",
    "            print('File not found: “{}”. Skipping this instance.'.format(filename))\n",
    "            continue\n",
    "        instance = read_tsp_instance(filename)\n",
    "        print('Solving instance {}…'.format(filename), end='')\n",
    "        time_start = time.monotonic()\n",
    "        quality_nn = calculate_tour_length(instance, solve_tsp_nearest_neighbour(instance))\n",
    "        time_nn = time.monotonic()-time_start\n",
    "        time_start = time.monotonic()\n",
    "        quality_ni = calculate_tour_length(instance, solve_tsp_nearest_insertion(instance))\n",
    "        time_ni = time.monotonic()-time_start\n",
    "        print(' done in {:.2} seconds with tour length {} using NN and in {:.2} seconds with tour length {} using NI'.format(time_nn, int(quality_nn), time_ni, int(quality_ni)))"
   ]
  },
  {
   "cell_type": "code",
   "execution_count": 115,
   "metadata": {
    "collapsed": false,
    "deletable": true,
    "editable": true
   },
   "outputs": [
    {
     "name": "stdout",
     "output_type": "stream",
     "text": [
      "Solving instance d198.tsp… done in 0.037 seconds with tour length 18570 using NN and in 0.11 seconds with tour length 18052 using NI\n",
      "Solving instance d493.tsp… done in 0.14 seconds with tour length 43630 using NN and in 0.61 seconds with tour length 41576 using NI\n",
      "Solving instance d657.tsp… done in 0.25 seconds with tour length 62076 using NN and in 1.1 seconds with tour length 60195 using NI\n",
      "Solving instance d2103.tsp… done in 2.6 seconds with tour length 87323 using NN and in 1.1e+01 seconds with tour length 86027 using NI\n",
      "Solving instance pr107.tsp… done in 0.0064 seconds with tour length 46480 using NN and in 0.027 seconds with tour length 53211 using NI\n",
      "Solving instance pr152.tsp… done in 0.012 seconds with tour length 85567 using NN and in 0.054 seconds with tour length 86914 using NI\n",
      "Solving instance pr439.tsp… done in 0.1 seconds with tour length 131056 using NN and in 0.46 seconds with tour length 132780 using NI\n"
     ]
    }
   ],
   "source": [
    "run_all()"
   ]
  },
  {
   "cell_type": "markdown",
   "metadata": {
    "collapsed": true,
    "deletable": true,
    "editable": true
   },
   "source": [
    "## Выводы\n",
    "Найденные значения не очень сильно отличаются. Иногда один алгоритм работает лучше, иногда- второй."
   ]
  },
  {
   "cell_type": "code",
   "execution_count": null,
   "metadata": {
    "collapsed": true
   },
   "outputs": [],
   "source": []
  }
 ],
 "metadata": {
  "kernelspec": {
   "display_name": "Python 3",
   "language": "python",
   "name": "python3"
  },
  "language_info": {
   "codemirror_mode": {
    "name": "ipython",
    "version": 3
   },
   "file_extension": ".py",
   "mimetype": "text/x-python",
   "name": "python",
   "nbconvert_exporter": "python",
   "pygments_lexer": "ipython3",
   "version": "3.5.2"
  }
 },
 "nbformat": 4,
 "nbformat_minor": 2
}
