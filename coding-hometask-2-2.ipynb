{
 "cells": [
  {
   "cell_type": "markdown",
   "metadata": {
    "deletable": true,
    "editable": true
   },
   "source": [
    "# Задание по курсу «Дискретная оптимизация», МФТИ, весна 2017"
   ]
  },
  {
   "cell_type": "markdown",
   "metadata": {
    "deletable": true,
    "editable": true
   },
   "source": [
    "## Задача 2-2. Эвристика Кернигана—Лина\n",
    "\n",
    "В этой задаче Вам предлагается добавить к локальному поиска в задаче о сбалансированном разбиении графа эвристику Кернигана—Лина, когда мы, «застряв» в локальном минимуме, тем не менее пытаемся сделать несколько шагов из него, даже если они приводят к временному ухудшению. Надежда здесь на то, что после ухудшения может наступить заметное улучшение результата: нам удастся выпрыгнуть из локального оптимума. Мы рассматриваем безвесовый вариант задачи о разбиении с параметром балансировки $\\alpha=\\frac{1}{2}$:\n",
    "\n",
    "**Даны:**\n",
    "* $G=(V,E)$ — граф без весов на рёбрах\n",
    "\n",
    "**Найти:**\n",
    "* Разбиение $V=V'\\sqcup V''$, такое, что $V'=\\lfloor |V|/2 \\rfloor$ и число рёбер между $V'$ и $V''$ минимально возможное.\n",
    "\n",
    "Сделайте следующее:\n",
    "* Скачайте файл [`partition-instances.zip`](https://github.com/dainiak/discrete-optimization-course/raw/master/partition-instances.zip) и разархивируйте из него файлы со входами задачи.\n",
    "* Для каждого из графов найдите локальным поиском с эвристикой Кернигана—Лина локально минимальное (по количеству рёбер между частями) разбиение вершин графа на две части, мощности которых отличаются не более чем на единицу. \n",
    "* Реализуйте функцию `variable_depth_local_search`; она должна принимать на вход граф в формате, предоставляемом функцией `read_instance`, и возвращать найденное разбиение как множество вершин, лежащих в одной любой из двух компонент разбиения. Ваш локальный поиск должен начинаться с того разбиение, которое уже находится в переменной `starting_point`.\n",
    "* Подберите для каждого из четырёх входных графов глубину поиска так, чтобы он работал не более 60 секунд на Вашем компьютере, и сохраните информацию о подобранных параметрах и любые свои интересные наблюдения в отдельную ячейку настоящего ipynb-файла."
   ]
  },
  {
   "cell_type": "code",
   "execution_count": 55,
   "metadata": {
    "collapsed": true,
    "deletable": true,
    "editable": true
   },
   "outputs": [],
   "source": [
    "def read_instance(filename):\n",
    "    with open(filename, 'r') as file:\n",
    "        n_vertices = int(file.readline().strip().split()[0])\n",
    "        vertices, edges = set(range(1, n_vertices + 1)), set()\n",
    "        for u in range(1, n_vertices + 1):\n",
    "            for v in map(int, file.readline().strip().split()):\n",
    "                edges.add((u,v))\n",
    "        return (vertices, edges)"
   ]
  },
  {
   "cell_type": "code",
   "execution_count": null,
   "metadata": {
    "collapsed": true,
    "deletable": true,
    "editable": true
   },
   "outputs": [],
   "source": [
    "def getcost(cur): #подсчет стоимости разбиения\n",
    "        ans = 0\n",
    "        for edge in edges:\n",
    "            a, b = edge\n",
    "            if a in cur and not b in cur:\n",
    "                ans += 1\n",
    "            elif b in cur and not a in cur:\n",
    "                ans += 1\n",
    "        return ans\n",
    "    \n",
    "    vertices, edges = graph\n",
    "    n = len(vertices)\n",
    "    k = min(1, n) #метод k-окрестностей. Будем использовать 1-окрестность. \n",
    "    #Можно поменять константу.\n",
    "    curleft = set()\n",
    "    curright = set()\n",
    "    #начальная инициализация\n",
    "    for (i, el) in enumerate(vertices):\n",
    "        if i % 2:\n",
    "            curleft.add(el)\n",
    "        else:\n",
    "            curright.add(el)\n",
    "    cost = getcost(curleft)\n",
    "    while True:\n",
    "        best = None\n",
    "        for choose in range(1, k+1):\n",
    "            #перебор изменений\n",
    "            for l_ch in combinations(curleft, choose):\n",
    "                for r_ch in combinations(curright, choose):\n",
    "                    r_ch = set(r_ch)\n",
    "                    l_ch = set(l_ch)\n",
    "                    curleft |= r_ch\n",
    "                    curleft -= l_ch\n",
    "                    tmpcost = getcost(curleft)\n",
    "                    curleft -= r_ch\n",
    "                    curleft |= l_ch\n",
    "                    if tmpcost < cost:\n",
    "                        cost = tmpcost\n",
    "                        best = (l_ch, r_ch)\n",
    "        if best is None:\n",
    "            break\n",
    "        l_ch, r_ch = best\n",
    "        #обновление текущего разбиения\n",
    "        curleft |= r_ch\n",
    "        curleft -= l_ch\n",
    "        curright |= l_ch\n",
    "        curright -= r_ch\n",
    "    return curleft"
   ]
  },
  {
   "cell_type": "code",
   "execution_count": 480,
   "metadata": {
    "collapsed": false,
    "deletable": true,
    "editable": true
   },
   "outputs": [],
   "source": [
    "import time\n",
    "def variable_depth_local_search(graph):\n",
    "    def get_weight(left):\n",
    "        ans = 0\n",
    "        for edge in edges:\n",
    "            a, b = edge\n",
    "            if a in left and not b in left:\n",
    "                ans += 1\n",
    "        return ans\n",
    "    cnt = 0\n",
    "    x = set()\n",
    "    starting_point = set(range(1, len(graph[0]) // 2 + 1))\n",
    "    vertices, edges = graph\n",
    "    n = len(vertices)\n",
    "    left = [0] + list(starting_point)\n",
    "    bestleft = left[::-1]\n",
    "    right = [0] + list(range(len(graph[0]) // 2 + 1, len(graph[0]) + 1))\n",
    "    rec = 30 #длина прыжка\n",
    "    opt = get_weight(left)\n",
    "    r = 0\n",
    "    parent = (-1, -1)\n",
    "    cur = opt\n",
    "    before = [] #будем во время прыжка хранить посещенные состояния\n",
    "    ch = [set(), set()] #добавленные в левую и правую доли, описывают разбиение с момента начала длинного прыжка\n",
    "    time_start = time.monotonic()\n",
    "    while (True):\n",
    "        cnt += 1\n",
    "        if (cnt >> 3) & 1 == 0:\n",
    "            time_elapsed = time.monotonic()-time_start\n",
    "            if time_elapsed > 50:\n",
    "                break\n",
    "        if rec == r:\n",
    "            break\n",
    "        before += [ch]\n",
    "        cost_left = [0 for i in range(n+1)]\n",
    "        cost_right = [0 for i in range(n+1)]\n",
    "        for edge in edges:\n",
    "            a, b = edge\n",
    "            if b in left:\n",
    "                cost_left[a] += 1\n",
    "            else:\n",
    "                cost_right[a] += 1\n",
    "        best = -1\n",
    "        bestpair = (-1, -1)\n",
    "        left.sort(key=lambda a:cost_left[a] - cost_right[a])\n",
    "        right.sort(key=lambda a:-cost_left[a] + cost_right[a])\n",
    "        for i in range(1, len(left)):\n",
    "            for j in range(1, len(right)):\n",
    "                a = left[i]\n",
    "                b = right[j]\n",
    "                now = cur\n",
    "                now += cost_left[a] - cost_right[a]\n",
    "                now += -cost_left[b] + cost_right[b]\n",
    "                oldnow = now\n",
    "                if best != -1 and now > best: #дальше все варианты будут заведомо хуже\n",
    "                    break\n",
    "                ch1 = [set(ch[0]), set(ch[1])]\n",
    "                ch1[0].add(b)\n",
    "                ch1[0].discard(a)\n",
    "                ch1[1].add(a)\n",
    "                ch1[1].discard(b)\n",
    "                if ch1 in before: #уже были там в этой ветке\n",
    "                    continue\n",
    "                if (a, b) in edges:\n",
    "                    now += 2\n",
    "                if (best == -1 or now < best):\n",
    "                    best = now\n",
    "                    bestpair = (i, j)\n",
    "        if best == -1:\n",
    "            break\n",
    "        i, j = bestpair\n",
    "        a, b = left[i], right[j]\n",
    "        left[i], right[j] = right[j], left[i]\n",
    "        cur = best\n",
    "        parent = (a, b)\n",
    "        if best < opt:\n",
    "            opt = best\n",
    "            bestleft = left[::-1]\n",
    "            before = []\n",
    "            ch = [set(), set()]\n",
    "            r = 0\n",
    "        else:\n",
    "            r += 1\n",
    "    return set(bestleft) - {0}\n"
   ]
  },
  {
   "cell_type": "code",
   "execution_count": 481,
   "metadata": {
    "collapsed": false,
    "deletable": true,
    "editable": true
   },
   "outputs": [],
   "source": [
    "import time\n",
    "\n",
    "def get_quality(graph, partition_part):\n",
    "    if not (partition_part <= graph[0]) or abs(len(partition_part) - len(graph[0]) / 2) > 0.6:\n",
    "        return -1\n",
    "    other_part = set(graph[0]) - partition_part\n",
    "    return sum(1 for edge in graph[1] if set(edge) <= partition_part or set(edge) <= other_part )\n",
    "\n",
    "def run_all():\n",
    "    filenames = ['add20.graph', 'cti.graph', 't60k.graph', 'm14b.graph']\n",
    "    for filename in filenames:\n",
    "        instance = read_instance(filename)\n",
    "        print('Solving instance {}…'.format(filename), end='')\n",
    "        time_start = time.monotonic()\n",
    "        quality = get_quality(instance, variable_depth_local_search(instance))\n",
    "        time_elapsed = time.monotonic()-time_start\n",
    "        print(' done in {:.2} seconds with quality {}'.format(time_elapsed, quality))"
   ]
  },
  {
   "cell_type": "code",
   "execution_count": null,
   "metadata": {
    "collapsed": false,
    "deletable": true,
    "editable": true
   },
   "outputs": [
    {
     "name": "stdout",
     "output_type": "stream",
     "text": [
      "Solving instance add20.graph…"
     ]
    }
   ],
   "source": [
    "run_all()"
   ]
  },
  {
   "cell_type": "markdown",
   "metadata": {
    "deletable": true,
    "editable": true
   },
   "source": [
    "## Выводы\n",
    "(Здесь опишите свои наблюдения и подобранные параметры для каждогр из четырёх входных графов.)"
   ]
  },
  {
   "cell_type": "code",
   "execution_count": null,
   "metadata": {
    "collapsed": false,
    "deletable": true,
    "editable": true
   },
   "outputs": [],
   "source": [
    "Работает очень долго, несмотря на оптимизации. Ничего подобрать не удалось. "
   ]
  },
  {
   "cell_type": "code",
   "execution_count": null,
   "metadata": {
    "collapsed": false,
    "deletable": true,
    "editable": true
   },
   "outputs": [],
   "source": []
  },
  {
   "cell_type": "code",
   "execution_count": null,
   "metadata": {
    "collapsed": true,
    "deletable": true,
    "editable": true
   },
   "outputs": [],
   "source": []
  }
 ],
 "metadata": {
  "kernelspec": {
   "display_name": "Python 3",
   "language": "python",
   "name": "python3"
  }
 },
 "nbformat": 4,
 "nbformat_minor": 2
}
