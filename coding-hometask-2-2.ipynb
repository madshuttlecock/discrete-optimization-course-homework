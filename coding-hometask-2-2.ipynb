{
 "cells": [
  {
   "cell_type": "markdown",
   "metadata": {
    "deletable": true,
    "editable": true
   },
   "source": [
    "# Задание по курсу «Дискретная оптимизация», МФТИ, весна 2017"
   ]
  },
  {
   "cell_type": "markdown",
   "metadata": {
    "deletable": true,
    "editable": true
   },
   "source": [
    "## Задача 2-2. Эвристика Кернигана—Лина\n",
    "\n",
    "В этой задаче Вам предлагается добавить к локальному поиска в задаче о сбалансированном разбиении графа эвристику Кернигана—Лина, когда мы, «застряв» в локальном минимуме, тем не менее пытаемся сделать несколько шагов из него, даже если они приводят к временному ухудшению. Надежда здесь на то, что после ухудшения может наступить заметное улучшение результата: нам удастся выпрыгнуть из локального оптимума. Мы рассматриваем безвесовый вариант задачи о разбиении с параметром балансировки $\\alpha=\\frac{1}{2}$:\n",
    "\n",
    "**Даны:**\n",
    "* $G=(V,E)$ — граф без весов на рёбрах\n",
    "\n",
    "**Найти:**\n",
    "* Разбиение $V=V'\\sqcup V''$, такое, что $V'=\\lfloor |V|/2 \\rfloor$ и число рёбер между $V'$ и $V''$ минимально возможное.\n",
    "\n",
    "Сделайте следующее:\n",
    "* Скачайте файл [`partition-instances.zip`](https://github.com/dainiak/discrete-optimization-course/raw/master/partition-instances.zip) и разархивируйте из него файлы со входами задачи.\n",
    "* Для каждого из графов найдите локальным поиском с эвристикой Кернигана—Лина локально минимальное (по количеству рёбер между частями) разбиение вершин графа на две части, мощности которых отличаются не более чем на единицу. \n",
    "* Реализуйте функцию `variable_depth_local_search`; она должна принимать на вход граф в формате, предоставляемом функцией `read_instance`, и возвращать найденное разбиение как множество вершин, лежащих в одной любой из двух компонент разбиения. Ваш локальный поиск должен начинаться с того разбиение, которое уже находится в переменной `starting_point`.\n",
    "* Подберите для каждого из четырёх входных графов глубину поиска так, чтобы он работал не более 60 секунд на Вашем компьютере, и сохраните информацию о подобранных параметрах и любые свои интересные наблюдения в отдельную ячейку настоящего ipynb-файла."
   ]
  },
  {
   "cell_type": "code",
   "execution_count": 117,
   "metadata": {
    "collapsed": true,
    "deletable": true,
    "editable": true
   },
   "outputs": [],
   "source": [
    "def read_instance(filename):\n",
    "    with open(filename, 'r') as file:\n",
    "        n_vertices = int(file.readline().strip().split()[0])\n",
    "        vertices, edges = set(range(1, n_vertices + 1)), set()\n",
    "        for u in range(1, n_vertices + 1):\n",
    "            for v in map(int, file.readline().strip().split()):\n",
    "                edges.add((u,v))\n",
    "        return (vertices, edges)"
   ]
  },
  {
   "cell_type": "raw",
   "metadata": {},
   "source": []
  },
  {
   "cell_type": "code",
   "execution_count": 232,
   "metadata": {
    "collapsed": false,
    "deletable": true,
    "editable": true
   },
   "outputs": [],
   "source": [
    "import time\n",
    "def variable_depth_local_search(graph):\n",
    "    def get_weight(left):\n",
    "        ans = 0\n",
    "        for edge in edges:\n",
    "            a, b = edge\n",
    "            if a in left and not b in left:\n",
    "                ans += 1\n",
    "        return ans\n",
    "\n",
    "    def move(ch1, a, b):\n",
    "        if (a in ch1[0]):\n",
    "            ch1[0].discard(a)\n",
    "        else:\n",
    "            ch1[1].add(a)\n",
    "        if (b in ch1[1]):\n",
    "            ch1[1].discard(b)\n",
    "        else:\n",
    "            ch1[0].add(b)\n",
    "                \n",
    "    time_start = time.monotonic()\n",
    "    cnt = 0\n",
    "    x = set()\n",
    "    \n",
    "    starting_point = set(range(1, len(graph[0]) // 2 + 1))\n",
    "    vertices, edges = graph\n",
    "    n = len(vertices)\n",
    "    G = [[] for i in range(1 + n)]\n",
    "    for edge in edges:\n",
    "        a, b = edge\n",
    "        G[a].append(b)\n",
    "    left = list(starting_point)\n",
    "    bestleft = left[:]\n",
    "    right = list(range(len(graph[0]) // 2 + 1, len(graph[0]) + 1))\n",
    "    rec = 200 #длина прыжка\n",
    "    if n > 10000:\n",
    "        rec = 20\n",
    "    opt = get_weight(starting_point)\n",
    "    r = 0\n",
    "    parent = (-1, -1)\n",
    "    cur = opt\n",
    "    before = [] #будем во время прыжка хранить посещенные состояния\n",
    "    ch = [set(), set()] #добавленные в левую и правую доли, описывают разбиение с момента начала длинного прыжка\n",
    "    cost_left = [0 for i in range(n+1)]\n",
    "    cost_right = [0 for i in range(n+1)]\n",
    "    for a in left:\n",
    "        for b in G[a]:\n",
    "            cost_left[b] += 1\n",
    "    for b in right:\n",
    "        for a in G[b]:\n",
    "            cost_right[a] += 1\n",
    "    while (True):\n",
    "        cnt += 1\n",
    "        time_elapsed = time.monotonic()-time_start\n",
    "        if time_elapsed > 45:\n",
    "            break\n",
    "        if rec == r:\n",
    "            break\n",
    "        ch1 = [set(ch[0]), set(ch[1])]\n",
    "        before += [ch1]\n",
    "        best = -1\n",
    "        bestpair = (-1, -1)\n",
    "        left.sort(key=lambda a:cost_left[a] - cost_right[a])\n",
    "        right.sort(key=lambda a:-cost_left[a] + cost_right[a])\n",
    "        quit = False\n",
    "        for i in range(1, len(left)):\n",
    "            if quit:\n",
    "                break\n",
    "            for j in range(1, len(right)):\n",
    "                a = left[i]\n",
    "                b = right[j]\n",
    "                now = cur\n",
    "                now += cost_left[a] - cost_right[a]\n",
    "                now += -cost_left[b] + cost_right[b]\n",
    "                oldnow = now\n",
    "                if best != -1 and now >= min(opt, best): #дальше все варианты будут заведомо хуже, \n",
    "                    #в силу сортировки лучшие варианты при меньших i и j\n",
    "                    quit = True\n",
    "                    break\n",
    "                if (a, b) in edges:\n",
    "                    now += 2\n",
    "                ch1 = [set(ch[0]), set(ch[1])]\n",
    "                move(ch1, a, b)\n",
    "                if ch1 in before: #уже были там в этой ветке\n",
    "                    continue\n",
    "                if (best == -1 or now < best):\n",
    "                    best = now\n",
    "                    bestpair = (i, j)\n",
    "        if best == -1:\n",
    "            break\n",
    "        i, j = bestpair\n",
    "        a, b = left[i], right[j]\n",
    "        left[i], right[j] = right[j], left[i]\n",
    "        cur = best\n",
    "        for bb in G[a]:\n",
    "            cost_left[bb] -= 1\n",
    "            cost_right[bb] += 1\n",
    "        for aa in G[b]:\n",
    "            cost_left[aa] += 1\n",
    "            cost_right[aa] -= 1\n",
    "        if best < opt:\n",
    "            opt = best\n",
    "            bestleft = left[::-1]\n",
    "            before = []\n",
    "            ch = [set(), set()]\n",
    "            r = 0\n",
    "        else:\n",
    "            r += 1\n",
    "            move(ch, a, b)\n",
    "    return set(bestleft)\n"
   ]
  },
  {
   "cell_type": "code",
   "execution_count": 233,
   "metadata": {
    "collapsed": false,
    "deletable": true,
    "editable": true
   },
   "outputs": [],
   "source": [
    "import time\n",
    "\n",
    "def get_quality(graph, partition_part):\n",
    "    if not (partition_part <= graph[0]) or abs(len(partition_part) - len(graph[0]) / 2) > 0.6:\n",
    "        return -1\n",
    "    other_part = set(graph[0]) - partition_part\n",
    "    return sum(1 for edge in graph[1] if set(edge) <= partition_part or set(edge) <= other_part )\n",
    "\n",
    "def run_all():\n",
    "    filenames = ['add20.graph', 'cti.graph', 't60k.graph', 'm14b.graph']\n",
    "    for filename in filenames:\n",
    "        instance = read_instance(filename)\n",
    "        print('Solving instance {}…'.format(filename), end='')\n",
    "        time_start = time.monotonic()\n",
    "        quality = get_quality(instance, variable_depth_local_search(instance))\n",
    "        time_elapsed = time.monotonic()-time_start\n",
    "        print(' done in {:.2} seconds with quality {}'.format(time_elapsed, quality))"
   ]
  },
  {
   "cell_type": "code",
   "execution_count": 234,
   "metadata": {
    "collapsed": false
   },
   "outputs": [
    {
     "name": "stdout",
     "output_type": "stream",
     "text": [
      "Solving instance add20.graph… done in 0.36 seconds with quality 12142\n",
      "Solving instance cti.graph… done in 0.42 seconds with quality 94072\n",
      "Solving instance t60k.graph… done in 1.1 seconds with quality 178244\n",
      "Solving instance m14b.graph… done in 5.1e+01 seconds with quality 2908144\n"
     ]
    }
   ],
   "source": [
    "run_all()"
   ]
  },
  {
   "cell_type": "markdown",
   "metadata": {
    "deletable": true,
    "editable": true
   },
   "source": [
    "## Выводы\n",
    "(Здесь опишите свои наблюдения и подобранные параметры для каждогр из четырёх входных графов.)"
   ]
  },
  {
   "cell_type": "code",
   "execution_count": null,
   "metadata": {
    "collapsed": false,
    "deletable": true,
    "editable": true
   },
   "outputs": [],
   "source": [
    "Работает на последнем тесте очень долго, несмотря на оптимизации. Для более маленьких можно брать больше длину прыжка.\n",
    "На последнем пришлось отсекать по времени."
   ]
  },
  {
   "cell_type": "code",
   "execution_count": null,
   "metadata": {
    "collapsed": true,
    "deletable": true,
    "editable": true
   },
   "outputs": [],
   "source": []
  }
 ],
 "metadata": {
  "kernelspec": {
   "display_name": "Python 3",
   "language": "python",
   "name": "python3"
  },
  "language_info": {
   "codemirror_mode": {
    "name": "ipython",
    "version": 3
   },
   "file_extension": ".py",
   "mimetype": "text/x-python",
   "name": "python",
   "nbconvert_exporter": "python",
   "pygments_lexer": "ipython3",
   "version": "3.5.2"
  }
 },
 "nbformat": 4,
 "nbformat_minor": 2
}
