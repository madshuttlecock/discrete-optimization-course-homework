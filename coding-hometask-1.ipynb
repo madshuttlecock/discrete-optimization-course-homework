{
 "cells": [
  {
   "cell_type": "code",
   "execution_count": 33,
   "metadata": {
    "collapsed": false
   },
   "outputs": [],
   "source": [
    "def solve_bp_decision(weights, n_bins):\n",
    "    #black box\n",
    "    return True/False\n",
    "    \n",
    "def solve_bp_evaluation(weights):\n",
    "    n = len(weights)\n",
    "    l = 0\n",
    "    r = n\n",
    "    while r - l > 1:\n",
    "        m = (r + l) // 2\n",
    "        if solve_bp_decision(weights, m):\n",
    "            r = m\n",
    "        else:\n",
    "            l = m\n",
    "    answer = l + 1\n",
    "    if n == 0:\n",
    "        answer = 0\n",
    "    return answer # float\n",
    "    \n",
    "def solve_bp_search(weights):\n",
    "    n = len(weights)\n",
    "    indexes = [i for i in range(n)] #номера текущих предметов\n",
    "    parent = [-1 for i in range(n)] #предмет, с которым был \"соединен\" данный предмет\n",
    "    deleted = [] #соединенные и тем самым удаленные предметы (у склеенного предмета индекс одного из образующих его)\n",
    "    opt = solve_bp_evaluation(weights) #оптимум\n",
    "    ops = n - opt #на каддой итерации удаляем 1 предмет\n",
    "    solution = [0 for i in range(n)]\n",
    "    for op in range(ops):\n",
    "        p = True\n",
    "        for i in range(len(weights)): #ищем пару для склейки\n",
    "            for j in range(i + 1, len(weights)):\n",
    "                if weights[i] + weights[j] > 1:\n",
    "                    continue\n",
    "                #пытаемся склеить\n",
    "                w = weights[:j] + weights[j+1:] \n",
    "                ind = indexes[:j] + indexes[j+1:]\n",
    "                w[i] += weights[j]\n",
    "                if (solve_bp_evaluation(w) == opt): #если ответ не ухудшился, можем склеить\n",
    "                    #склеиваем\n",
    "                    parent[indexes[j]] = indexes[i] \n",
    "                    deleted.append(indexes[j])\n",
    "                    weights = w\n",
    "                    indexes = ind\n",
    "                    p = False\n",
    "                    break\n",
    "            if not p:\n",
    "                break\n",
    "    for i in range(len(indexes)):\n",
    "        solution[indexes[i]] = i + 1 #оставшимся присваиваем номера корзин\n",
    "    for el in deleted[::-1]:\n",
    "        solution[el] = solution[parent[el]] #в той же корзине, как и тот, с кем склелили\n",
    "    return solution # list\n",
    "\n"
   ]
  },
  {
   "cell_type": "code",
   "execution_count": null,
   "metadata": {
    "collapsed": true
   },
   "outputs": [],
   "source": []
  }
 ],
 "metadata": {
  "kernelspec": {
   "display_name": "Python 3",
   "language": "python",
   "name": "python3"
  },
  "language_info": {
   "codemirror_mode": {
    "name": "ipython",
    "version": 3
   },
   "file_extension": ".py",
   "mimetype": "text/x-python",
   "name": "python",
   "nbconvert_exporter": "python",
   "pygments_lexer": "ipython3",
   "version": "3.5.2"
  }
 },
 "nbformat": 4,
 "nbformat_minor": 2
}
