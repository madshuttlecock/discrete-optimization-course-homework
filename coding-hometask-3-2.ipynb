{
 "cells": [
  {
   "cell_type": "markdown",
   "metadata": {
    "collapsed": true,
    "deletable": true,
    "editable": true
   },
   "source": [
    "## Задача 3-2. Задача TSP: нижняя оценка Гельда—Карпа.\n",
    "\n",
    "В этой задаче Вам предлагается релизовать алгоритм Гельда—Карпа для нижней оценки стоимости решения в задаче Euclidean TSP.\n",
    "\n",
    "Сделайте следующее:\n",
    "* Скачайте файл [`tsp-instances.zip`](https://github.com/dainiak/discrete-optimization-course/raw/master/tsp-instances.zip) и разархивируйте из него файлы со входами задачи TSP. Это в точности те же входные данные, что и в задании 3-1.\n",
    "* Реализуйте функцию `lower_bound_tsp`. При этом можно пользоваться каким-нибудь стандартным алгоритмом построения минимального остовного дерева из библиотеки [`networkx`](https://networkx.github.io/), входящей в состав дистрибутива Anaconda.\n",
    "* Запустите функцию `run_all()`, чтобы протестировать свой код, и напишите полученные, как следствия, верхние оценки погрешностей решений, которые были получены Вашими алгоритмами NN и NI при решении задания 3-1. Запишите свои выводы в 1-2 предложениях в последней ячейке ipynb-файла."
   ]
  },
  {
   "cell_type": "code",
   "execution_count": 48,
   "metadata": {
    "collapsed": true,
    "deletable": true,
    "editable": true
   },
   "outputs": [],
   "source": [
    "from typing import List, Tuple\n",
    "from math import sqrt\n",
    "from itertools import combinations, islice\n",
    "\n",
    "\n",
    "def read_tsp_instance(filename: str) -> List[Tuple[int,int]]:\n",
    "    with open(filename, 'r') as file:\n",
    "        coordinates = []\n",
    "        for line in file:\n",
    "            line = line.strip().lower()\n",
    "            if line.startswith('dimension'):\n",
    "                coordinates = [(0, 0)] * int(line.split()[-1])\n",
    "            tokens = line.split()\n",
    "            if len(tokens) == 3 and tokens[0].isdecimal():\n",
    "                tokens = line.split()\n",
    "                coordinates[int(tokens[0])-1] = tuple(map(float, tokens[1:]))\n",
    "        return coordinates\n",
    "\n",
    "\n",
    "def euclidean_distance(point1: Tuple[int,int], point2: Tuple[int,int]) -> float:\n",
    "    return sqrt((point1[0]-point2[0]) ** 2 + (point1[1]-point2[1]) ** 2)"
   ]
  },
  {
   "cell_type": "code",
   "execution_count": 53,
   "metadata": {
    "collapsed": true
   },
   "outputs": [],
   "source": [
    "def sp_tree(matrix):\n",
    "    n = len(matrix)\n",
    "    used = [0 for i in range(n)]\n",
    "    parent = [0 for i in range(n)]\n",
    "    dist = matrix[0][:]\n",
    "    used[0] = 1\n",
    "    parent[0] = -1\n",
    "    ans = 0\n",
    "    for i in range(n-1):\n",
    "        best = -1\n",
    "        bestdist = 0\n",
    "        for v in range(n):\n",
    "            if not used[v]:\n",
    "                if best == -1 or bestdist > dist[v]:\n",
    "                    best = v\n",
    "                    bestdist = dist[v]\n",
    "        v = best\n",
    "        ans += dist[v]\n",
    "        used[v] = 1\n",
    "        for w in range(n):\n",
    "            if not used[w]:\n",
    "                if dist[w] > matrix[v][w]:\n",
    "                    dist[w] = matrix[v][w]\n",
    "                    parent[w] = v\n",
    "\n",
    "    return (parent, ans)"
   ]
  },
  {
   "cell_type": "code",
   "execution_count": 343,
   "metadata": {
    "collapsed": false,
    "deletable": true,
    "editable": true
   },
   "outputs": [],
   "source": [
    "def lower_bound_tsp(vertex_coordinates: List[Tuple[int,int]]) -> float:\n",
    "    n = len(vertex_coordinates)\n",
    "    matrix = [[euclidean_distance(a, b) for a in vertex_coordinates] for b in vertex_coordinates]\n",
    "    a, opt = sp_tree(matrix)\n",
    "    y = [0 for i in range(n)]\n",
    "    upper = 2 * opt\n",
    "    \n",
    "    iters = int(1e7 / (n**2)) + 2\n",
    "    maxchanges = 10\n",
    "    t = 100\n",
    "    eps = 1e-3\n",
    "    alpha = 2\n",
    "    beta = 0.95\n",
    "    if iters < 10:\n",
    "        alpha = 0.1\n",
    "        beta = 0.5\n",
    "    curedges = [[matrix[i][j] for i in range(n)] for j in range(n)]\n",
    "    for iteration in range(iters):\n",
    "        tree = sp_tree(curedges)\n",
    "        parent, bound = tree\n",
    "        bound += 2 * sum(y)\n",
    "        opt = max(bound, opt)\n",
    "        deg = [0 for i in range(n)]\n",
    "        summ = 0\n",
    "        for v in range(n):\n",
    "            if parent[v] != -1:\n",
    "                deg[v] += 1\n",
    "                deg[parent[v]] += 1\n",
    "        for v in range(n):\n",
    "            summ += ((2 - deg[v]) ** 2)\n",
    "\n",
    "        t = (alpha * (upper - bound)) / summ\n",
    "        if t < eps:\n",
    "            break\n",
    "        for v in range(n):\n",
    "            y[v] += t * (2 - deg[v])\n",
    "        for u in range(n):\n",
    "            for v in range(n):\n",
    "                curedges[u][v] = matrix[u][v] - y[u] - y[v]\n",
    "        alpha *= beta\n",
    "    return opt\n"
   ]
  },
  {
   "cell_type": "code",
   "execution_count": 344,
   "metadata": {
    "collapsed": true,
    "deletable": true,
    "editable": true
   },
   "outputs": [],
   "source": [
    "import time\n",
    "from os.path import exists\n",
    "\n",
    "def run_all():\n",
    "    instance_filenames = ['pr107.tsp', 'pr152.tsp', 'd198.tsp', 'pr439.tsp', 'd493.tsp', 'd657.tsp', 'd2103.tsp']\n",
    "    for filename in instance_filenames:\n",
    "        if not exists(filename):\n",
    "            print('File not found: “{}”. Skipping this instance.'.format(filename))\n",
    "            continue\n",
    "        instance = read_tsp_instance(filename)\n",
    "        print('Instance {}…'.format(filename), end='')\n",
    "        time_start = time.monotonic()\n",
    "        bound = lower_bound_tsp(instance)\n",
    "        time_nn = time.monotonic()-time_start\n",
    "        print(' done in {:.2} seconds with lower bound {}'.format(time_nn, int(bound)))"
   ]
  },
  {
   "cell_type": "code",
   "execution_count": 345,
   "metadata": {
    "collapsed": false
   },
   "outputs": [
    {
     "name": "stdout",
     "output_type": "stream",
     "text": [
      "12.26919426949878\n",
      "5.47213595499958\n",
      "9.47213595499958\n"
     ]
    }
   ],
   "source": [
    "v = [(0, 0), (1, 2), (3, 4), (2, 2)]\n",
    "print(lower_bound_tsp(v))\n",
    "print(1+2*sqrt(5))\n",
    "print(5 + 2 * sqrt(5))"
   ]
  },
  {
   "cell_type": "code",
   "execution_count": 346,
   "metadata": {
    "collapsed": false,
    "deletable": true,
    "editable": true,
    "scrolled": true
   },
   "outputs": [
    {
     "name": "stdout",
     "output_type": "stream",
     "text": [
      "Instance pr107.tsp… done in 2.3 seconds with lower bound 38528\n",
      "Instance pr152.tsp… done in 5.2 seconds with lower bound 65672\n",
      "Instance d198.tsp… done in 6.8 seconds with lower bound 14172\n",
      "Instance pr439.tsp… done in 7.0 seconds with lower bound 100531\n",
      "Instance d493.tsp… done in 7.2 seconds with lower bound 31813\n",
      "Instance d657.tsp… done in 7.6 seconds with lower bound 42490\n",
      "Instance d2103.tsp… done in 1.8e+01 seconds with lower bound 76300\n"
     ]
    }
   ],
   "source": [
    "run_all()"
   ]
  },
  {
   "cell_type": "markdown",
   "metadata": {
    "deletable": true,
    "editable": true
   },
   "source": [
    "## Выводы\n",
    "Запишите здесь полученные результаты относительно погрешностей алгоритмов NN и NI."
   ]
  },
  {
   "cell_type": "markdown",
   "metadata": {},
   "source": [
    "Пусть x - найденное каким-то алгоритмом значение цикла, а y - ценка снизу на значение. Тогда y <= opt <= x. Тогда погрешность = (x - opt) / opt <= (x - y) / y\n",
    "\n",
    "d198.tsp… done in 0.037 seconds with tour length 18570 using NN and in 0.11 seconds with tour length 18052 using NI\n",
    "Instance d198.tsp… done in 6.8 seconds with lower bound 14172\n",
    "\n",
    "Погрешность NN: (18570 - 14172) / 14172 = 31%, NI: 27%\n",
    "\n",
    "Solving instance d493.tsp… done in 0.14 seconds with tour length 43630 using NN and in 0.61 seconds with tour length 41576 using NI\n",
    "Instance d493.tsp… done in 7.2 seconds with lower bound 31813\n",
    "\n",
    "Погрешность NN: (43630 - 31813) / 31813 = 37%, NI: 30%\n",
    "\n",
    "Solving instance d657.tsp… done in 0.25 seconds with tour length 62076 using NN and in 1.1 seconds with tour length 60195 using NI\n",
    "Instance d657.tsp… done in 7.6 seconds with lower bound 42490\n",
    "\n",
    "Погрешность NN: (62076 - 42490) / 42490 = 46%, NI: 41%\n",
    "\n",
    "Solving instance d2103.tsp… done in 2.6 seconds with tour length 87323 using NN and in 1.1e+01 seconds with tour length 86027 using NI\n",
    "\n",
    "\n",
    "\n",
    "Solving instance pr107.tsp… done in 0.0064 seconds with tour length 46480 using NN and in 0.027 seconds with tour length 53211 using NI\n",
    "Solving instance pr152.tsp… done in 0.012 seconds with tour length 85567 using NN and in 0.054 seconds with tour length 86914 using NI\n",
    "Solving instance pr439.tsp… done in 0.1 seconds with tour length 131056 using NN and in 0.46 seconds with tour length 132780 using NI"
   ]
  }
 ],
 "metadata": {
  "kernelspec": {
   "display_name": "Python 3",
   "language": "python",
   "name": "python3"
  },
  "language_info": {
   "codemirror_mode": {
    "name": "ipython",
    "version": 3
   },
   "file_extension": ".py",
   "mimetype": "text/x-python",
   "name": "python",
   "nbconvert_exporter": "python",
   "pygments_lexer": "ipython3",
   "version": "3.5.2"
  }
 },
 "nbformat": 4,
 "nbformat_minor": 1
}
